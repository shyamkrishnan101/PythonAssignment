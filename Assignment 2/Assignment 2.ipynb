{
 "cells": [
  {
   "cell_type": "markdown",
   "metadata": {},
   "source": [
    "### Task 1"
   ]
  },
  {
   "cell_type": "markdown",
   "metadata": {},
   "source": [
    "#### 1.1 Write a Python Program to implement your own myreduce() function which works exactly like python's built-in function reduce()"
   ]
  },
  {
   "cell_type": "code",
   "execution_count": 2,
   "metadata": {},
   "outputs": [
    {
     "name": "stdout",
     "output_type": "stream",
     "text": [
      "Sum = 15\n",
      "Subtraction = -13\n",
      "Product = 120\n",
      "Division = 0.008333333333333333\n"
     ]
    }
   ],
   "source": [
    "def myreduce(function,inputs):\n",
    "    list_values=inputs[0]\n",
    "    for i in inputs[1:]:\n",
    "        list_values=function(list_values,i)\n",
    "    return list_values\n",
    "def addition(x,y):\n",
    "    return x+y\n",
    "def subtraction(x,y):\n",
    "    return x-y\n",
    "def multiplication(x,y):\n",
    "    return x*y\n",
    "def division(x,y):\n",
    "    return x/y\n",
    "list1=[1,2,3,4,5]\n",
    "add=myreduce(addition , list1)\n",
    "print('Sum =' , add)\n",
    "sub=myreduce(subtraction , list1)\n",
    "print('Subtraction =' , sub)\n",
    "pro=myreduce(multiplication , list1)\n",
    "print('Product =' , pro)\n",
    "div=myreduce(division , list1)\n",
    "print('Division =' , div)"
   ]
  },
  {
   "cell_type": "markdown",
   "metadata": {},
   "source": [
    "#### 1.2 Write a Python program to implement your own myfilter() function which works exactly like Python's built-in function filter()\n",
    " "
   ]
  },
  {
   "cell_type": "code",
   "execution_count": 3,
   "metadata": {},
   "outputs": [
    {
     "name": "stdout",
     "output_type": "stream",
     "text": [
      "Even numbers in the list =  [10, 6, 4, 0]\n",
      "If function equals None =  [10, 3, 5, 6, 11, 4]\n"
     ]
    }
   ],
   "source": [
    "def myfilter(function,inputs):\n",
    "    if function is None:\n",
    "        return [item for item in inputs if item]\n",
    "    else:\n",
    "        return [item for item in inputs if function(item)]\n",
    "def even(x):\n",
    "    return x%2==0\n",
    "list1=[10,3,5,6,11,4,0]\n",
    "print(\"Even numbers in the list = \",myfilter(even,list1))\n",
    "print(\"If function equals None = \",myfilter(None,list1)) # 0 removed since it is considered as False"
   ]
  },
  {
   "cell_type": "markdown",
   "metadata": {},
   "source": [
    "#### 2.Implement List comprehensions to produce the following lists. Write List comprehensions to produce the following Lists"
   ]
  },
  {
   "cell_type": "raw",
   "metadata": {},
   "source": [
    "['A', 'C', 'A', 'D', 'G', 'I', 'L', ' D']\n",
    "['x', 'xx', 'xxx', 'xxxx', 'y', 'yy', 'yyy', 'yyyy', 'z', 'zz', 'zzz', 'zzzz']\n",
    "['x', 'y', 'z', 'xx', 'yy', 'zz', 'xxx', 'yyy', 'zzz', 'xxxx', 'yyyy', 'zzzz']\n",
    "[[2], [3], [4], [3], [4], [5], [4], [5], [6]]\n",
    "[[2, 3, 4, 5], [3, 4, 5, 6], [4, 5, 6, 7], [5, 6, 7, 8]]\n",
    "[(1, 1), (2, 1), (3, 1), (1, 2), (2, 2), (3, 2), (1, 3), (2, 3), (3, 3)]"
   ]
  },
  {
   "cell_type": "code",
   "execution_count": 4,
   "metadata": {},
   "outputs": [
    {
     "name": "stdout",
     "output_type": "stream",
     "text": [
      "Output1 = ['A', 'C', 'A', 'D', 'G', 'I', 'L', 'D']\n",
      "Output2 = ['x', 'xx', 'xxx', 'xxxx', 'y', 'yy', 'yyy', 'yyyy', 'z', 'zz', 'zzz', 'zzzz']\n",
      "Output3 = ['x', 'y', 'z', 'xx', 'yy', 'zz', 'xxx', 'yyy', 'zzz', 'xxxx', 'yyyy', 'zzzz']\n",
      "Output4 = [[2], [3], [4], [3], [4], [5], [4], [5], [6]]\n",
      "output5 = [[2, 3, 4, 5], [3, 4, 5, 6], [4, 5, 6, 7], [5, 6, 7, 8]]\n",
      "output6 = [(1, 1), (2, 1), (3, 1), (1, 2), (2, 2), (3, 2), (1, 3), (2, 3), (3, 3)]\n"
     ]
    }
   ],
   "source": [
    "input1='ACADGILD'\n",
    "print('Output1 =',[i for i in input1])\n",
    "input2= ['x','y','z']\n",
    "print('Output2 =',[item*number for item in input2 for number in range(1,5)])\n",
    "input3=['x','y','z']\n",
    "print(\"Output3 =\",[item*number for number in range(1,5) for item in input3])\n",
    "input4=[2,3,4,5,6]\n",
    "print(\"Output4 =\",[[i+j]for i in range(2,5) for j in range(3)])\n",
    "input5=[2,3,4,5,6,7,8]\n",
    "print(\"output5 =\",[[i+j for i in range(2,6)] for j in range(4)])\n",
    "input=[1,2,3]\n",
    "print(\"output6 =\",[(j,i) for i in range(1,4) for j in range(1,4) ])"
   ]
  },
  {
   "cell_type": "markdown",
   "metadata": {},
   "source": [
    "#### 3.Implement a function longestWord() that takes a list of words and returns the longest one"
   ]
  },
  {
   "cell_type": "code",
   "execution_count": 5,
   "metadata": {},
   "outputs": [
    {
     "name": "stdout",
     "output_type": "stream",
     "text": [
      "Longest word is = programming with length = 11 \n"
     ]
    }
   ],
   "source": [
    "def longestWord(l):\n",
    "    maxlen =0 \n",
    "    for i in a:\n",
    "        if len(i)>maxlen:\n",
    "            maxlen=len(i)\n",
    "            longword = i\n",
    "    print(\"Longest word is = {} with length = {} \".format(longword,maxlen))\n",
    "a =['I','love','python','programming','It','has','many','useful','libraries']\n",
    "longestWord(a)"
   ]
  },
  {
   "cell_type": "markdown",
   "metadata": {},
   "source": [
    "### Task 2"
   ]
  },
  {
   "cell_type": "markdown",
   "metadata": {},
   "source": [
    "##### 1.1 Write a Python Program(with class concepts) to find the area of the triangle using the below formula.\n",
    "##### area = (s * (s-a) * (s-b) * (s-c)) * * 0.5\n",
    "##### Function to take the length of the sides of triangle from user should be defined in the parent class and function to calculate the area should be defined in subclass."
   ]
  },
  {
   "cell_type": "code",
   "execution_count": 6,
   "metadata": {},
   "outputs": [
    {
     "name": "stdout",
     "output_type": "stream",
     "text": [
      "Area of triangle :  9.9216\n"
     ]
    }
   ],
   "source": [
    "class triangle():\n",
    "    def __init__(self,a,b,c):\n",
    "        self.a=a\n",
    "        self.b=b\n",
    "        self.c=c\n",
    "class area(triangle):\n",
    "    def areafunc(self):\n",
    "        s=(a+b+c)/2\n",
    "        areatri=(s * (s-a) * (s-b) * (s-c)) ** 0.5\n",
    "        print(\"Area of triangle : \",round(areatri,4))\n",
    "a=4\n",
    "b=5\n",
    "c=6\n",
    "areaobj = area(a,b,c)\n",
    "areaobj.areafunc()"
   ]
  },
  {
   "cell_type": "markdown",
   "metadata": {},
   "source": [
    "#### 1.2 Write a function filter_long_words() that takes a list of words and an integer n and returns the list of words that are longer than n."
   ]
  },
  {
   "cell_type": "code",
   "execution_count": 7,
   "metadata": {},
   "outputs": [
    {
     "name": "stdout",
     "output_type": "stream",
     "text": [
      "The resultant list :  ['watch', 'football']\n"
     ]
    }
   ],
   "source": [
    "res=[]\n",
    "def filter_long_words(l,n):\n",
    "    for i in list1:\n",
    "        if len(i) > n:\n",
    "            res.append(i)\n",
    "    return res\n",
    "        \n",
    "    \n",
    "list1=['I','love','to','watch','football']\n",
    "n=4\n",
    "print(\"The resultant list : \",filter_long_words(list1,n))"
   ]
  },
  {
   "cell_type": "markdown",
   "metadata": {},
   "source": [
    "##### 2.1 Write a Python program using function concept that maps list of words into a list of integers representing the lengths of the corresponding words.\n",
    "##### Hint: If a list [ ab,cde,erty] is passed on to the python function output should come as [2,3,4]. Here 2,3 and 4 are the lengths of the words in the list"
   ]
  },
  {
   "cell_type": "code",
   "execution_count": 9,
   "metadata": {},
   "outputs": [
    {
     "name": "stdout",
     "output_type": "stream",
     "text": [
      "Lengths of words in the list :  [3, 5, 2, 5, 8, 8, 7, 4]\n"
     ]
    }
   ],
   "source": [
    "length=[]\n",
    "def length_of_words(l):\n",
    "    for i in list1:\n",
    "        a=len(i)\n",
    "        length.append(a)\n",
    "    return length\n",
    "list1=[\"man\",'wheat','if','watch','football','learning','Thought','Jump']\n",
    "print(\"Lengths of words in the list : \",length_of_words(list1))"
   ]
  },
  {
   "cell_type": "markdown",
   "metadata": {},
   "source": [
    "#### 2.2 Write a Python function which takes a character (i.e. a string of length 1) and returns True if it is a vowel, False otherwise"
   ]
  },
  {
   "cell_type": "code",
   "execution_count": 1,
   "metadata": {},
   "outputs": [
    {
     "name": "stdout",
     "output_type": "stream",
     "text": [
      "Please Enter the character : I\n",
      "Result :  True\n"
     ]
    }
   ],
   "source": [
    "def is_vowel(ch):\n",
    "    vowels = ['A','E','I','O','U','a','e','i','o','u']\n",
    "    if ch in vowels:\n",
    "        return True\n",
    "    else:\n",
    "        return False\n",
    "char=input(\"Please Enter the character : \")\n",
    "print(\"Result : \",is_vowel(char))"
   ]
  },
  {
   "cell_type": "markdown",
   "metadata": {},
   "source": [
    "### Thank You"
   ]
  }
 ],
 "metadata": {
  "kernelspec": {
   "display_name": "Python 3",
   "language": "python",
   "name": "python3"
  },
  "language_info": {
   "codemirror_mode": {
    "name": "ipython",
    "version": 3
   },
   "file_extension": ".py",
   "mimetype": "text/x-python",
   "name": "python",
   "nbconvert_exporter": "python",
   "pygments_lexer": "ipython3",
   "version": "3.7.4"
  }
 },
 "nbformat": 4,
 "nbformat_minor": 2
}
